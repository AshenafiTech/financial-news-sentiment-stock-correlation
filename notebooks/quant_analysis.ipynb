{
 "cells": [
  {
   "cell_type": "markdown",
   "id": "65fc6213",
   "metadata": {},
   "source": [
    "#  1. Load and Prepare the Data"
   ]
  },
  {
   "cell_type": "code",
   "execution_count": null,
   "id": "4b5f441d",
   "metadata": {},
   "outputs": [],
   "source": [
    "import pandas as pd\n",
    "\n",
    "# Load your data\n",
    "df = pd.read_csv('../data/yfinance_data/AAPL_historical_data.csv', parse_dates=['Date'])\n",
    "df.set_index('Date', inplace=True)\n",
    "df = df.sort_index()\n",
    "\n",
    "# Ensure required columns are present\n",
    "required_cols = ['Open', 'High', 'Low', 'Close', 'Volume']\n",
    "assert all(col in df.columns for col in required_cols), \"Missing required columns\"\n",
    "df.head()\n"
   ]
  }
 ],
 "metadata": {
  "kernelspec": {
   "display_name": "venv",
   "language": "python",
   "name": "python3"
  },
  "language_info": {
   "name": "python",
   "version": "3.12.3"
  }
 },
 "nbformat": 4,
 "nbformat_minor": 5
}
